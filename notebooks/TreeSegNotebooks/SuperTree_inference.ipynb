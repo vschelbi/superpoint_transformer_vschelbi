{
 "cells": [
  {
   "cell_type": "markdown",
   "metadata": {},
   "source": [
    "# Parametrizing Panoptic Segmentation"
   ]
  },
  {
   "cell_type": "code",
   "execution_count": 1,
   "metadata": {},
   "outputs": [],
   "source": [
    "%load_ext autoreload\n",
    "%autoreload 2\n",
    "\n",
    "import os\n",
    "import sys\n",
    "\n",
    "# Add the project's files to the python path\n",
    "# file_path = os.path.dirname(os.path.dirname(os.path.abspath(__file__)))  # for .py script\n",
    "file_path = os.path.dirname(os.path.abspath(''))  # for .ipynb notebook\n",
    "sys.path.append(file_path)\n",
    "\n",
    "import hydra\n",
    "from src.utils import init_config, compute_panoptic_metrics, \\\n",
    "    grid_search_panoptic_partition, oracle_superpoint_clustering, \\\n",
    "    grid_search_panoptic_partition_FORinstance, panoptic_partition_FORinstance, \\\n",
    "    bayesian_optimize_panoptic_partition_FORinstance\n",
    "import torch\n",
    "from src.transforms import *\n",
    "from src.utils.widgets import *\n",
    "from src.data import *\n",
    "\n",
    "# Very ugly fix to ignore lightning's warning messages about the\n",
    "# trainer and modules not being connected\n",
    "import warnings\n",
    "warnings.filterwarnings(\"ignore\")"
   ]
  },
  {
   "cell_type": "code",
   "execution_count": 2,
   "metadata": {},
   "outputs": [],
   "source": [
    "device = 'cuda' \n",
    "# change for each experiment\n",
    "\n",
    "experiment = 'forinstance_100edgeaffloss_5e-2LR_2e-1voxel_20kadj_800epochs_panoptic1'\n",
    "ckpt = '/home/valerio/Downloads/100edgeaffloss_5e-2LR_2e-1voxel_20kadj_800epochs_panoptic1.ckpt'\n",
    "\n",
    "stage = 'test'"
   ]
  },
  {
   "cell_type": "code",
   "execution_count": 3,
   "metadata": {},
   "outputs": [
    {
     "name": "stdout",
     "output_type": "stream",
     "text": [
      "0   Ground and low vegetation stuff\n",
      "1   Tree                 thing\n",
      "2   Unknown              void\n"
     ]
    }
   ],
   "source": [
    "# Parse the configs using hydra\n",
    "cfg = init_config(overrides=[\n",
    "    f\"experiment=panoptic/{experiment}\",\n",
    "    f\"ckpt_path={ckpt}\"\n",
    "])\n",
    "\n",
    "datamodule = hydra.utils.instantiate(cfg.datamodule)\n",
    "datamodule.prepare_data()\n",
    "datamodule.setup()\n",
    "\n",
    "if stage == 'val':\n",
    "    dataset = datamodule.val_dataset\n",
    "elif stage == 'train':\n",
    "    dataset = datamodule.train_dataset\n",
    "elif stage == 'test':\n",
    "    dataset = datamodule.test_dataset\n",
    "else:\n",
    "    raise ValueError(\"Invalid stage\")\n",
    "\n",
    "dataset.print_classes()\n",
    "\n",
    "model = hydra.utils.instantiate(cfg.model)\n",
    "\n",
    "if ckpt is not None:\n",
    "    model = model._load_from_checkpoint(cfg.ckpt_path)\n",
    "\n",
    "model = model.eval().to(device)"
   ]
  },
  {
   "cell_type": "code",
   "execution_count": 24,
   "metadata": {},
   "outputs": [
    {
     "name": "stderr",
     "output_type": "stream",
     "text": [
      "Param Combinations: 100%|██████████| 1/1 [00:00<00:00,  3.28it/s]"
     ]
    },
    {
     "name": "stdout",
     "output_type": "stream",
     "text": [
      "\n",
      "Best panoptic setup: \n",
      "Tree F1=36.59\n",
      "   k_max  radius  regulari.  x_weight  cutoff\n",
      "0     10       3         20       0.1    1000\n",
      "\n"
     ]
    },
    {
     "name": "stderr",
     "output_type": "stream",
     "text": [
      "\n"
     ]
    }
   ],
   "source": [
    "tile = 10\n",
    "grid_search = False\n",
    "\n",
    "if grid_search:\n",
    "    k_max = [10, 20]\n",
    "    radius = [1, 3, 5]\n",
    "    regularization = [10, 20]\n",
    "    x_weight = [1e-2, 1e-1, 1]\n",
    "    cutoff = [1000, 100]\n",
    "else:\n",
    "    k_max = [10]\n",
    "    radius = [3]\n",
    "    regularization = [20]\n",
    "    x_weight = [1e-1]\n",
    "    cutoff = [1000]\n",
    "\n",
    "best_output, best_partitions, best_results, best_combination = grid_search_panoptic_partition_FORinstance(\n",
    "    model,\n",
    "    dataset,\n",
    "    i_cloud=tile,\n",
    "    graph_kwargs=dict(\n",
    "        k_max=k_max,\n",
    "        radius=radius),\n",
    "    partition_kwargs=dict(\n",
    "        regularization=regularization,\n",
    "        x_weight=x_weight,\n",
    "        cutoff=cutoff),\n",
    "    mode='pas',\n",
    "    verbose=False)"
   ]
  },
  {
   "cell_type": "code",
   "execution_count": 25,
   "metadata": {},
   "outputs": [],
   "source": [
    "if False:\n",
    "    nag = dataset[tile]\n",
    "\n",
    "    # add the results to the nag for visualization\n",
    "    vox_y, vox_index, vox_obj_pred = best_output.voxel_panoptic_pred(super_index=nag[0].super_index)\n",
    "    nag[0].obj_pred = vox_obj_pred\n",
    "\n",
    "    center = nag[0].pos.mean(dim=0)[:2]\n",
    "    radius = 10\n",
    "    mask = torch.where(torch.linalg.norm(nag[0].pos[:, :2] - center, dim=1) < radius)[0]\n",
    "    nag_cylinder = nag.select(0, mask)\n",
    "    nag_cylinder.show(path='/home/valerio/Documents/Semester_Thesis/visualizations/', title='TUWIEN', stuff_classes=[0], num_classes=2)"
   ]
  },
  {
   "cell_type": "code",
   "execution_count": 4,
   "metadata": {},
   "outputs": [
    {
     "name": "stderr",
     "output_type": "stream",
     "text": [
      "100%|██████████| 3/3 [00:03<00:00,  1.06s/it]"
     ]
    },
    {
     "name": "stdout",
     "output_type": "stream",
     "text": [
      "pq                    : 0.6818211674690247\n",
      "sq                    : 0.8860996961593628\n",
      "rq                    : 0.7544098496437073\n",
      "pq_modified           : 0.7045230269432068\n",
      "pq_thing              : 0.45556876063346863\n",
      "sq_thing              : 0.8187221884727478\n",
      "rq_thing              : 0.5564387440681458\n",
      "pq_stuff              : 0.9080736041069031\n",
      "sq_stuff              : 0.9534772634506226\n",
      "rq_stuff              : 0.9523809552192688\n",
      "pq_per_class          : tensor([0.9081, 0.4556])\n",
      "sq_per_class          : tensor([0.9535, 0.8187])\n",
      "rq_per_class          : tensor([0.9524, 0.5564])\n",
      "precision_per_class   : tensor([0.9091, 0.5738])\n",
      "recall_per_class      : tensor([1.0000, 0.5401])\n",
      "tp_per_class          : tensor([ 10, 175])\n",
      "fp_per_class          : tensor([  1, 130])\n",
      "fn_per_class          : tensor([  0, 149])\n",
      "pq_modified_per_class : tensor([0.9535, 0.4556])\n",
      "mean_precision        : 0.7414306998252869\n",
      "mean_recall           : 0.770061731338501\n",
      "mIoU                  : 97.24026489257812\n"
     ]
    },
    {
     "name": "stderr",
     "output_type": "stream",
     "text": [
      "\n"
     ]
    }
   ],
   "source": [
    "panoptic, instance, semantic = compute_panoptic_metrics(\n",
    "    model,\n",
    "    datamodule,\n",
    "    stage='test',\n",
    "    graph_kwargs=dict(\n",
    "        k_max=10,\n",
    "        radius=3),\n",
    "    partition_kwargs=dict(\n",
    "        regularization=20,\n",
    "        x_weight=1e-1,\n",
    "        cutoff=1000))"
   ]
  }
 ],
 "metadata": {
  "kernelspec": {
   "display_name": "spt",
   "language": "python",
   "name": "python3"
  },
  "language_info": {
   "codemirror_mode": {
    "name": "ipython",
    "version": 3
   },
   "file_extension": ".py",
   "mimetype": "text/x-python",
   "name": "python",
   "nbconvert_exporter": "python",
   "pygments_lexer": "ipython3",
   "version": "3.8.19"
  }
 },
 "nbformat": 4,
 "nbformat_minor": 2
}
