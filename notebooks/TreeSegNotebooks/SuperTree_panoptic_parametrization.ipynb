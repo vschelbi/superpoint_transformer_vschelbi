{
 "cells": [
  {
   "cell_type": "markdown",
   "metadata": {},
   "source": [
    "# Parametrizing Panoptic Segmentation"
   ]
  },
  {
   "cell_type": "code",
   "execution_count": 1,
   "metadata": {},
   "outputs": [],
   "source": [
    "%load_ext autoreload\n",
    "%autoreload 2\n",
    "\n",
    "import os\n",
    "import sys\n",
    "\n",
    "# Add the project's files to the python path\n",
    "# file_path = os.path.dirname(os.path.dirname(os.path.abspath(__file__)))  # for .py script\n",
    "file_path = os.path.dirname(os.path.abspath(''))  # for .ipynb notebook\n",
    "sys.path.append(file_path)\n",
    "\n",
    "import hydra\n",
    "from src.utils import init_config, compute_panoptic_metrics, \\\n",
    "    grid_search_panoptic_partition, oracle_superpoint_clustering, \\\n",
    "    grid_search_panoptic_partition_FORinstance, panoptic_partition_FORinstance, \\\n",
    "    bayesian_optimize_panoptic_partition_FORinstance\n",
    "import torch\n",
    "from src.transforms import *\n",
    "from src.utils.widgets import *\n",
    "from src.data import *\n",
    "\n",
    "# Very ugly fix to ignore lightning's warning messages about the\n",
    "# trainer and modules not being connected\n",
    "import warnings\n",
    "warnings.filterwarnings(\"ignore\")"
   ]
  },
  {
   "cell_type": "code",
   "execution_count": 2,
   "metadata": {},
   "outputs": [],
   "source": [
    "device = 'cuda'\n",
    "# change for each experiment\n",
    "\n",
    "experiment = 'forinstance_159lvlratio_2e-1voxel_update'\n",
    "ckpt = '/home/valerio/Downloads/159lvlratio_2e-1voxel_update.ckpt'\n",
    "\n",
    "stage = 'test'"
   ]
  },
  {
   "cell_type": "code",
   "execution_count": 3,
   "metadata": {},
   "outputs": [
    {
     "name": "stderr",
     "output_type": "stream",
     "text": [
      "Processing...\n"
     ]
    },
    {
     "data": {
      "application/vnd.jupyter.widget-view+json": {
       "model_id": "6303038860f64eda80f9aabb05e59bfb",
       "version_major": 2,
       "version_minor": 0
      },
      "text/plain": [
       "  0%|          | 0/21 [00:00<?, ?it/s]"
      ]
     },
     "metadata": {},
     "output_type": "display_data"
    },
    {
     "name": "stderr",
     "output_type": "stream",
     "text": [
      "Done!\n",
      "Processing...\n"
     ]
    },
    {
     "data": {
      "application/vnd.jupyter.widget-view+json": {
       "model_id": "727f254b17b44c6485bdca22aa4223be",
       "version_major": 2,
       "version_minor": 0
      },
      "text/plain": [
       "  0%|          | 0/11 [00:00<?, ?it/s]"
      ]
     },
     "metadata": {},
     "output_type": "display_data"
    },
    {
     "name": "stderr",
     "output_type": "stream",
     "text": [
      "Done!\n"
     ]
    },
    {
     "name": "stdout",
     "output_type": "stream",
     "text": [
      "0   Ground and low vegetation stuff\n",
      "1   Tree                 thing\n",
      "2   Unknown              void\n"
     ]
    }
   ],
   "source": [
    "# Parse the configs using hydra\n",
    "cfg = init_config(overrides=[\n",
    "    f\"experiment=panoptic/{experiment}\",\n",
    "    f\"ckpt_path={ckpt}\"\n",
    "])\n",
    "\n",
    "datamodule = hydra.utils.instantiate(cfg.datamodule)\n",
    "datamodule.prepare_data()\n",
    "datamodule.setup()\n",
    "\n",
    "if stage == 'val':\n",
    "    dataset = datamodule.val_dataset\n",
    "elif stage == 'train':\n",
    "    dataset = datamodule.train_dataset\n",
    "elif stage == 'test':\n",
    "    dataset = datamodule.test_dataset\n",
    "else:\n",
    "    raise ValueError(\"Invalid stage\")\n",
    "\n",
    "dataset.print_classes()\n",
    "\n",
    "model = hydra.utils.instantiate(cfg.model)\n",
    "\n",
    "if ckpt is not None:\n",
    "    model = model._load_from_checkpoint(cfg.ckpt_path)\n",
    "\n",
    "model = model.eval().to(device)"
   ]
  },
  {
   "cell_type": "code",
   "execution_count": null,
   "metadata": {},
   "outputs": [],
   "source": [
    "# 0, CULS\n",
    "# 1 - 6, NIBIO\n",
    "# 7, RMIT\n",
    "# 8 - 9, SCION\n",
    "# 10, TUWIEN"
   ]
  },
  {
   "cell_type": "code",
   "execution_count": 4,
   "metadata": {},
   "outputs": [
    {
     "name": "stdout",
     "output_type": "stream",
     "text": [
      "\n",
      "TILE 0, AREA CULS\n"
     ]
    },
    {
     "name": "stderr",
     "output_type": "stream",
     "text": [
      "Param Combinations: 100%|██████████| 72/72 [00:09<00:00,  7.55it/s]\n"
     ]
    },
    {
     "name": "stdout",
     "output_type": "stream",
     "text": [
      "    k_max  radius  regulari.  x_weight  cutoff     PQ     F1  TP  FP  FN\n",
      "0      10       1         10      0.01    1000  88.43  81.08  15   2   5\n",
      "1      10       1         10      0.01     100  84.80  73.17  15   6   5\n",
      "2      10       1         10      0.10    1000  89.50  89.47  17   1   3\n",
      "3      10       1         10      0.10     100  75.30  57.63  17  22   3\n",
      "4      10       1         10      1.00    1000  87.68  86.96  20   6   0\n",
      "..    ...     ...        ...       ...     ...    ...    ...  ..  ..  ..\n",
      "67     20       5         20      0.01     100  85.55  74.29  13   2   7\n",
      "68     20       5         20      0.10    1000  91.36  91.89  17   0   3\n",
      "69     20       5         20      0.10     100  81.64  70.83  17  11   3\n",
      "70     20       5         20      1.00    1000  87.99  85.00  17   3   3\n",
      "71     20       5         20      1.00     100  73.16  50.75  17  30   3\n",
      "\n",
      "[72 rows x 10 columns]\n",
      "\n",
      "Best panoptic setup: \n",
      "Tree F1=93.02\n",
      "   k_max  radius  regulari.  x_weight  cutoff\n",
      "0     10       3         10         1    1000\n",
      "\n",
      "                              PQ   PREC.   REC.      F1    TP   FP   FN\n",
      "Ground and low vegetation  96.45  100.00  100.0  100.00   1.0  0.0  0.0\n",
      "Tree                       85.78   86.96  100.0   93.02  20.0  3.0  0.0\n",
      "\n",
      "TILE 1, AREA NIBIO\n"
     ]
    },
    {
     "name": "stderr",
     "output_type": "stream",
     "text": [
      "Param Combinations: 100%|██████████| 72/72 [00:15<00:00,  4.78it/s]\n"
     ]
    },
    {
     "name": "stdout",
     "output_type": "stream",
     "text": [
      "    k_max  radius  regulari.  x_weight  cutoff     PQ     F1  TP   FP  FN\n",
      "0      10       1         10      0.01    1000  75.78  64.41  19   10  11\n",
      "1      10       1         10      0.01     100  75.40  63.77  22   17   8\n",
      "2      10       1         10      0.10    1000  66.14  44.71  19   37  10\n",
      "3      10       1         10      0.10     100  60.14  28.57  20   90  10\n",
      "4      10       1         10      1.00    1000  53.57  17.70  10   73  20\n",
      "..    ...     ...        ...       ...     ...    ...    ...  ..  ...  ..\n",
      "67     20       5         20      0.01     100  49.47   0.00   0    0  27\n",
      "68     20       5         20      0.10    1000  74.05  60.00  18   12  12\n",
      "69     20       5         20      0.10     100  71.00  56.00  21   24   9\n",
      "70     20       5         20      1.00    1000  58.31  26.26  13   57  16\n",
      "71     20       5         20      1.00     100  55.27  16.04  17  165  13\n",
      "\n",
      "[72 rows x 10 columns]\n",
      "\n",
      "Best panoptic setup: \n",
      "Tree F1=67.80\n",
      "   k_max  radius  regulari.  x_weight  cutoff\n",
      "0     10       1         20      0.01     100\n",
      "\n",
      "                              PQ   PREC.    REC.     F1    TP   FP    FN\n",
      "Ground and low vegetation  99.03  100.00  100.00  100.0   1.0  0.0   0.0\n",
      "Tree                       58.36   68.97   66.67   67.8  20.0  9.0  10.0\n",
      "\n",
      "TILE 7, AREA RMIT\n"
     ]
    },
    {
     "name": "stderr",
     "output_type": "stream",
     "text": [
      "Param Combinations: 100%|██████████| 72/72 [00:06<00:00, 10.41it/s]\n"
     ]
    },
    {
     "name": "stdout",
     "output_type": "stream",
     "text": [
      "    k_max  radius  regulari.  x_weight  cutoff     PQ     F1  TP  FP  FN\n",
      "0      10       1         10      0.01    1000  43.68  19.35   9  20  55\n",
      "1      10       1         10      0.01     100  48.79  33.33  19  31  45\n",
      "2      10       1         10      0.10    1000  44.47  24.24  12  23  52\n",
      "3      10       1         10      0.10     100  50.11  34.21  26  62  38\n",
      "4      10       1         10      1.00    1000  33.52  17.14   9  32  55\n",
      "..    ...     ...        ...       ...     ...    ...    ...  ..  ..  ..\n",
      "67     20       5         20      0.01     100  42.87  16.00   6   5  58\n",
      "68     20       5         20      0.10    1000  42.47  16.67   7  13  57\n",
      "69     20       5         20      0.10     100  48.49  33.66  17  20  47\n",
      "70     20       5         20      1.00    1000  41.43  13.79   6  17  58\n",
      "71     20       5         20      1.00     100  49.88  34.90  26  59  38\n",
      "\n",
      "[72 rows x 10 columns]\n",
      "\n",
      "Best panoptic setup: \n",
      "Tree F1=37.68\n",
      "   k_max  radius  regulari.  x_weight  cutoff\n",
      "0     10       1         20       0.1     100\n",
      "\n",
      "                              PQ   PREC.    REC.      F1    TP    FP    FN\n",
      "Ground and low vegetation  73.99  100.00  100.00  100.00   1.0   0.0   0.0\n",
      "Tree                       28.93   35.14   40.62   37.68  26.0  48.0  38.0\n",
      "\n",
      "TILE 8, AREA SCION\n"
     ]
    },
    {
     "name": "stderr",
     "output_type": "stream",
     "text": [
      "Param Combinations: 100%|██████████| 72/72 [00:13<00:00,  5.25it/s]\n"
     ]
    },
    {
     "name": "stdout",
     "output_type": "stream",
     "text": [
      "    k_max  radius  regulari.  x_weight  cutoff     PQ     F1  TP   FP  FN\n",
      "0      10       1         10      0.01    1000  67.08  46.81  11   11  14\n",
      "1      10       1         10      0.01     100  63.06  34.48  10   23  15\n",
      "2      10       1         10      0.10    1000  60.21  32.56  14   47  11\n",
      "3      10       1         10      0.10     100  54.38  14.36  13  143  12\n",
      "4      10       1         10      1.00    1000  52.97  14.81  10  100  15\n",
      "..    ...     ...        ...       ...     ...    ...    ...  ..  ...  ..\n",
      "67     20       5         20      0.01     100  56.10  17.65   3    6  22\n",
      "68     20       5         20      0.10    1000  62.34  30.77   8   19  17\n",
      "69     20       5         20      0.10     100  57.03  18.92   7   42  18\n",
      "70     20       5         20      1.00    1000  58.32  28.87  14   58  11\n",
      "71     20       5         20      1.00     100  52.67   9.96  14  242  11\n",
      "\n",
      "[72 rows x 10 columns]\n",
      "\n",
      "Best panoptic setup: \n",
      "Tree F1=46.81\n",
      "   k_max  radius  regulari.  x_weight  cutoff\n",
      "0     10       1         10      0.01    1000\n",
      "\n",
      "                              PQ  PREC.   REC.      F1    TP    FP    FN\n",
      "Ground and low vegetation  99.09  100.0  100.0  100.00   1.0   0.0   0.0\n",
      "Tree                       35.08   50.0   44.0   46.81  11.0  11.0  14.0\n",
      "\n",
      "TILE 10, AREA TUWIEN\n"
     ]
    },
    {
     "name": "stderr",
     "output_type": "stream",
     "text": [
      "Param Combinations: 100%|██████████| 72/72 [00:15<00:00,  4.61it/s]"
     ]
    },
    {
     "name": "stdout",
     "output_type": "stream",
     "text": [
      "    k_max  radius  regulari.  x_weight  cutoff     PQ     F1  TP   FP  FN\n",
      "0      10       1         10      0.01    1000  38.94  13.51   5   34  30\n",
      "1      10       1         10      0.01     100  39.31  14.43   7   55  28\n",
      "2      10       1         10      0.10    1000  41.95  27.27  15   60  20\n",
      "3      10       1         10      0.10     100  38.47  15.61  16  154  19\n",
      "4      10       1         10      1.00    1000  36.87  13.25  10  106  25\n",
      "..    ...     ...        ...       ...     ...    ...    ...  ..  ...  ..\n",
      "67     20       5         20      0.01     100  35.91   7.69   2   15  33\n",
      "68     20       5         20      0.10    1000  41.01  22.86   8   27  27\n",
      "69     20       5         20      0.10     100  39.94  19.35   9   49  26\n",
      "70     20       5         20      1.00    1000  40.83  23.85  13   61  22\n",
      "71     20       5         20      1.00     100  36.38   9.59  13  223  22\n",
      "\n",
      "[72 rows x 10 columns]\n",
      "\n",
      "Best panoptic setup: \n",
      "Tree F1=30.38\n",
      "   k_max  radius  regulari.  x_weight  cutoff\n",
      "0     20       5         10       0.1    1000\n",
      "\n",
      "                              PQ   PREC.    REC.      F1    TP    FP    FN\n",
      "Ground and low vegetation  65.89  100.00  100.00  100.00   1.0   0.0   0.0\n",
      "Tree                       20.84   27.27   34.29   30.38  12.0  32.0  23.0\n"
     ]
    },
    {
     "name": "stderr",
     "output_type": "stream",
     "text": [
      "\n"
     ]
    }
   ],
   "source": [
    "tiles = [0, 1, 7, 8, 10]\n",
    "areas = ['CULS', 'NIBIO', 'RMIT', 'SCION', 'TUWIEN']\n",
    "grid_search = True\n",
    "\n",
    "for tile, area in zip(tiles, areas):\n",
    "    print()\n",
    "    print(f\"TILE {tile}, AREA {area}\")\n",
    "\n",
    "    if grid_search:\n",
    "        k_max = [10, 20]\n",
    "        radius = [1, 3, 5]\n",
    "        regularization = [10, 20]\n",
    "        x_weight = [1e-2, 1e-1, 1]\n",
    "        cutoff = [1000, 100]\n",
    "    else:\n",
    "        k_max = [20]\n",
    "        radius = [3]\n",
    "        regularization = [20]\n",
    "        x_weight = [1e-1]\n",
    "        cutoff = [1000]\n",
    "\n",
    "    best_output, best_partitions, best_results, best_combination = grid_search_panoptic_partition_FORinstance(\n",
    "        model,\n",
    "        dataset,\n",
    "        i_cloud=tile,\n",
    "        graph_kwargs=dict(\n",
    "            k_max=k_max,\n",
    "            radius=radius),\n",
    "        partition_kwargs=dict(\n",
    "            regularization=regularization,\n",
    "            x_weight=x_weight,\n",
    "            cutoff=cutoff),\n",
    "        mode='pas',\n",
    "        verbose=True)\n"
   ]
  },
  {
   "cell_type": "code",
   "execution_count": null,
   "metadata": {},
   "outputs": [],
   "source": [
    "nag = dataset[tile]\n",
    "\n",
    "# add the results to the nag for visualization\n",
    "vox_y, vox_index, vox_obj_pred = best_output.voxel_panoptic_pred(super_index=nag[0].super_index)\n",
    "nag[0].obj_pred = vox_obj_pred\n",
    "\n",
    "center = nag[0].pos.mean(dim=0)[:2]\n",
    "radius = 10\n",
    "mask = torch.where(torch.linalg.norm(nag[0].pos[:, :2] - center, dim=1) < radius)[0]\n",
    "nag_cylinder = nag.select(0, mask)\n",
    "nag_cylinder.show(stuff_classes=[0], num_classes=2)"
   ]
  }
 ],
 "metadata": {
  "kernelspec": {
   "display_name": "spt",
   "language": "python",
   "name": "python3"
  },
  "language_info": {
   "codemirror_mode": {
    "name": "ipython",
    "version": 3
   },
   "file_extension": ".py",
   "mimetype": "text/x-python",
   "name": "python",
   "nbconvert_exporter": "python",
   "pygments_lexer": "ipython3",
   "version": "3.8.19"
  }
 },
 "nbformat": 4,
 "nbformat_minor": 2
}
