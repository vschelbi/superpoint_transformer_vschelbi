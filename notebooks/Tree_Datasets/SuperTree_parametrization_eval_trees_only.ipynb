{
 "cells": [
  {
   "cell_type": "code",
   "execution_count": 14,
   "metadata": {},
   "outputs": [],
   "source": [
    "import pandas as pd\n",
    "\n",
    "# load csv file\n",
    "file_path = '/home/valerio/git/superpoint_transformer_vschelbi/logs/partition_parametrization_4.0.csv'\n",
    "df = pd.read_csv(file_path)\n",
    "\n",
    "\n",
    "def filter_level_ratios(df):\n",
    "    return df[\n",
    "        (df[\"|P_0| / |P_1|\"] > 20) & # normally above 30\n",
    "        (df[\"|P_1| / |P_2|\"] > 2) # normally above 3\n",
    "    ]\n",
    "\n",
    "# other filters TODO\n",
    "\n",
    "# filter the dataframe to contain only parametrizations that satisfy level ratio constraints\n",
    "level_ratio_filtered = filter_level_ratios(df)\n",
    "# group by 'param_set_id'\n",
    "grouped_df = level_ratio_filtered.groupby('param_set_id')\n",
    "valid_param_set_ids = [name for name, group in grouped_df if len(group) == 5]\n",
    "filtered_df = df[df['param_set_id'].isin(valid_param_set_ids)]"
   ]
  },
  {
   "cell_type": "code",
   "execution_count": 15,
   "metadata": {},
   "outputs": [
    {
     "data": {
      "text/plain": [
       "16.0"
      ]
     },
     "execution_count": 15,
     "metadata": {},
     "output_type": "execute_result"
    }
   ],
   "source": [
    "len(filtered_df) / 5  # number of valid parametrizations"
   ]
  },
  {
   "cell_type": "code",
   "execution_count": 16,
   "metadata": {},
   "outputs": [],
   "source": [
    "numeric_cols = filtered_df.select_dtypes(include='number').columns.difference(['param_set_id']) # get all numeric columns except 'param_set_id'\n",
    "\n",
    "# calculate the mean metrics of all 5 datasets for each valid parametrization\n",
    "mean_metrics_df = filtered_df.groupby('param_set_id')[numeric_cols].mean().reset_index()"
   ]
  },
  {
   "cell_type": "code",
   "execution_count": 17,
   "metadata": {},
   "outputs": [],
   "source": [
    "# add the 'param_set' column to the mean_metrics_df based on the 'param_set_id'\n",
    "mean_metrics_df = mean_metrics_df.merge(\n",
    "    filtered_df[['param_set_id', 'param_set']].drop_duplicates(),\n",
    "    on='param_set_id')\n",
    "\n",
    "desired_order = [col for col in filtered_df.columns if col in mean_metrics_df.columns]\n",
    "\n",
    "mean_metrics_df = mean_metrics_df[desired_order]\n",
    "mean_metrics_df.to_csv('/home/valerio/git/superpoint_transformer_vschelbi/logs/mean_metrics_open_ended_levelratios_parametrization_4.0.csv', index=True)\n"
   ]
  }
 ],
 "metadata": {
  "kernelspec": {
   "display_name": "spt",
   "language": "python",
   "name": "python3"
  },
  "language_info": {
   "codemirror_mode": {
    "name": "ipython",
    "version": 3
   },
   "file_extension": ".py",
   "mimetype": "text/x-python",
   "name": "python",
   "nbconvert_exporter": "python",
   "pygments_lexer": "ipython3",
   "version": "3.8.19"
  }
 },
 "nbformat": 4,
 "nbformat_minor": 2
}
