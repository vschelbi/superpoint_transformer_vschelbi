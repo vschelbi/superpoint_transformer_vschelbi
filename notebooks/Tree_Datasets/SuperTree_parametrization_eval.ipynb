{
 "cells": [
  {
   "cell_type": "code",
   "execution_count": null,
   "metadata": {},
   "outputs": [],
   "source": [
    "%load_ext autoreload\n",
    "%autoreload 2\n",
    "\n",
    "import os\n",
    "import sys\n",
    "\n",
    "# Add the project's files to the python path\n",
    "# file_path = os.path.dirname(os.path.dirname(os.path.abspath(__file__)))  # for .py script\n",
    "file_path = os.path.dirname(os.path.abspath(''))  # for .ipynb notebook\n",
    "sys.path.append(file_path)\n",
    "import json\n",
    "import pandas as pd\n",
    "from IPython.display import display\n",
    "\n",
    "# Load JSONL data\n",
    "file_path = '/home/valerio/git/superpoint_transformer_vschelbi/logs/partition_parametrization_2.0.jsonl'\n",
    "data = []\n",
    "with open(file_path, 'r') as f:\n",
    "    for line in f:\n",
    "        data.append(json.loads(line))"
   ]
  },
  {
   "cell_type": "markdown",
   "metadata": {},
   "source": [
    "Flattened data structure to DataFrame\n"
   ]
  },
  {
   "cell_type": "code",
   "execution_count": null,
   "metadata": {},
   "outputs": [],
   "source": [
    "records = []\n",
    "for entry in data[1:]:  # skipping the header\n",
    "    param_set = entry[\"param_set\"]\n",
    "    for dataset, metrics in entry[\"performance_metrics\"].items():\n",
    "        if dataset == \"mean_metrics\":\n",
    "            continue\n",
    "        records.append({\n",
    "            \"param_set\": param_set,\n",
    "            \"dataset\": dataset,\n",
    "            \"|P_0| / |P_1|\": metrics[\"level_ratios\"][\"|P_0| / |P_1|\"],\n",
    "            \"|P_1| / |P_2|\": metrics[\"level_ratios\"][\"|P_1| / |P_2|\"],\n",
    "            \"miou_p1\": metrics[\"semantic_segmentation_miou_p1\"],\n",
    "            \"map_p1\": metrics[\"instance_segmentation_map_p1\"],\n",
    "            \"pq_p1\": metrics[\"panoptic_segmentation_pq_p1\"],\n",
    "            \"miou_p2\": metrics[\"semantic_segmentation_miou_p2\"],\n",
    "            \"map_p2\": metrics[\"instance_segmentation_map_p2\"],\n",
    "            \"pq_p2\": metrics[\"panoptic_segmentation_pq_p2\"]\n",
    "        })\n",
    "        \n",
    "mean_records = []\n",
    "for entry in data[1:]:\n",
    "    param_set = entry[\"param_set\"]\n",
    "    mean_metrics = entry[\"performance_metrics\"][\"mean_metrics\"]\n",
    "    mean_records.append({\n",
    "        \"param_set\": param_set,\n",
    "        \"dataset\": \"mean_metrics\",\n",
    "        \"|P_0| / |P_1|\": mean_metrics[\"level_ratios\"][\"|P_0| / |P_1|\"],\n",
    "        \"|P_1| / |P_2|\": mean_metrics[\"level_ratios\"][\"|P_1| / |P_2|\"],\n",
    "        \"miou_p1\": mean_metrics[\"semantic_segmentation_miou_p1\"],\n",
    "        \"map_p1\": mean_metrics[\"instance_segmentation_map_p1\"],\n",
    "        \"pq_p1\": mean_metrics[\"panoptic_segmentation_pq_p1\"],\n",
    "        \"miou_p2\": mean_metrics[\"semantic_segmentation_miou_p2\"],\n",
    "        \"map_p2\": mean_metrics[\"instance_segmentation_map_p2\"],\n",
    "        \"pq_p2\": mean_metrics[\"panoptic_segmentation_pq_p2\"]\n",
    "    })"
   ]
  },
  {
   "cell_type": "code",
   "execution_count": null,
   "metadata": {},
   "outputs": [],
   "source": [
    "df = pd.DataFrame(records)\n",
    "mean_df = pd.DataFrame(mean_records)"
   ]
  },
  {
   "cell_type": "code",
   "execution_count": null,
   "metadata": {},
   "outputs": [],
   "source": [
    "def filter_performance(df):\n",
    "    return df[\n",
    "        (df[\"|P_0| / |P_1|\"].between(30, 50)) &\n",
    "        (df[\"|P_1| / |P_2|\"].between(3, 10))\n",
    "        #(df[\"miou_p1\"] > 0.95) &\n",
    "        #(df[\"map_p1\"] > 0.95) &\n",
    "        #(df[\"pq_p1\"] > 0.95)\n",
    "    ]\n",
    "\n",
    "filtered_df = filter_performance(df)\n",
    "filtered_mean_df = filter_performance(mean_df)"
   ]
  },
  {
   "cell_type": "code",
   "execution_count": null,
   "metadata": {},
   "outputs": [],
   "source": [
    "top_2_per_dataset = filtered_df.groupby(\"dataset\").apply(lambda x: x.nlargest(2, 'miou_p1')).reset_index(drop=True)"
   ]
  },
  {
   "cell_type": "code",
   "execution_count": null,
   "metadata": {},
   "outputs": [],
   "source": [
    "top_2_per_dataset"
   ]
  },
  {
   "cell_type": "code",
   "execution_count": null,
   "metadata": {},
   "outputs": [],
   "source": [
    "top_10_mean = filtered_mean_df.nlargest(10, 'miou_p1')"
   ]
  },
  {
   "cell_type": "code",
   "execution_count": null,
   "metadata": {},
   "outputs": [],
   "source": [
    "top_10_mean"
   ]
  },
  {
   "cell_type": "code",
   "execution_count": null,
   "metadata": {},
   "outputs": [],
   "source": [
    "df.to_csv(\"partition_parametrization_2.0.csv\", index=True)\n",
    "mean_df.to_csv(\"partition_parametrization_2.0_mean.csv\", index=True)"
   ]
  },
  {
   "cell_type": "code",
   "execution_count": null,
   "metadata": {},
   "outputs": [],
   "source": [
    "top_2_per_dataset.to_csv(\"partition_parametrization_2.0_top_2_per_dataset.csv\", index=True)\n",
    "top_10_mean.to_csv(\"partition_parametrization_2.0_top_10_mean.csv\", index=True)"
   ]
  }
 ],
 "metadata": {
  "kernelspec": {
   "display_name": "spt",
   "language": "python",
   "name": "python3"
  },
  "language_info": {
   "codemirror_mode": {
    "name": "ipython",
    "version": 3
   },
   "file_extension": ".py",
   "mimetype": "text/x-python",
   "name": "python",
   "nbconvert_exporter": "python",
   "pygments_lexer": "ipython3",
   "version": "3.8.19"
  }
 },
 "nbformat": 4,
 "nbformat_minor": 2
}
