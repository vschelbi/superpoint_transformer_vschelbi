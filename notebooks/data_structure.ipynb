{
 "cells": [
  {
   "cell_type": "code",
   "execution_count": null,
   "id": "9f2da9d8-330f-4417-aa57-7575a40765a5",
   "metadata": {},
   "outputs": [],
   "source": [
    "%load_ext autoreload\n",
    "%autoreload 2\n",
    "\n",
    "import torch\n",
    "import numpy as np\n",
    "import sys, os\n",
    "from torch_geometric.nn.pool.consecutive import consecutive_cluster\n",
    "\n",
    "file_path = os.path.dirname(os.path.abspath(''))\n",
    "sys.path.append(file_path)\n",
    "\n",
    "from superpoint_transformer.utils import tensor_idx, is_dense, has_duplicates\n",
    "from superpoint_transformer.data import Data, Cluster, NAG"
   ]
  },
  {
   "cell_type": "code",
   "execution_count": null,
   "id": "095f3024-33f6-4729-bee5-da4fe8bcc052",
   "metadata": {},
   "outputs": [],
   "source": [
    "num_nodes = 10\n",
    "num_clusters = 3\n",
    "\n",
    "x = torch.rand(num_nodes, 2)\n",
    "\n",
    "edge_index = torch.stack([torch.arange(num_nodes), torch.arange(num_nodes).roll(1)])\n",
    "\n",
    "# super_index = torch.randint(num_clusters, (num_nodes,))\n",
    "super_index = torch.LongTensor([2, 0, 0, 1, 2, 0, 1, 1, 0, 1])\n",
    "\n",
    "d = Data(x=x, super_index=super_index, edge_index=edge_index).cuda()\n",
    "print(d)\n",
    "\n",
    "b = PyGBatch.from_data_list([d, d])\n",
    "print(b)\n",
    "\n",
    "print()\n",
    "print(d.super_index)\n",
    "print(b.super_index)\n",
    "print(b.to_data_list()[0].super_index)\n",
    "\n",
    "idx = torch.LongTensor([5, 1, 0]).to(d.device)\n",
    "print()\n",
    "print(idx)\n",
    "print(d.select(idx)[0])\n",
    "print(d.select(idx)[0].super_index)\n",
    "print()\n",
    "print(idx)\n",
    "print(d.select(idx, update_sub=False)[0])\n",
    "print(d.select(idx, update_sub=False)[0].super_index)\n",
    "print()\n",
    "print(idx)\n",
    "print(d.select(idx, update_super=False)[0])\n",
    "print(d.select(idx, update_super=False)[0].super_index)"
   ]
  },
  {
   "cell_type": "code",
   "execution_count": null,
   "id": "6ed0cfc6-0c70-40b5-92a6-6e1b877b31fc",
   "metadata": {},
   "outputs": [],
   "source": [
    "device = d.device\n",
    "\n",
    "# Update the edge indices. To do so, create a tensor of indices\n",
    "# reindex so that the desired output can be computed with simple\n",
    "# indexation reindex[edge_index]. This avoids using map() or\n",
    "# numpy.vectorize alternatives.\n",
    "reindex = torch.full((d.num_nodes,), -1, dtype=torch.int64, device=device)\n",
    "reindex = reindex.scatter_(0, idx, torch.arange(idx.shape[0], device=device))\n",
    "\n",
    "print(idx)\n",
    "print(edge_index)\n",
    "print(reindex[edge_index])\n",
    "\n",
    "edge_index = reindex[edge_index]\n",
    "\n",
    "# Remove the obsolete edges (ie those involving a '-1' index)\n",
    "valid_edges = torch.where((edge_index != -1).all(dim=0))[0]\n",
    "edge_index = edge_index[valid_edges]\n",
    "print(edge_index)"
   ]
  },
  {
   "cell_type": "code",
   "execution_count": null,
   "id": "435ed118-3c07-468a-83c8-0958aea73471",
   "metadata": {},
   "outputs": [],
   "source": [
    "from superpoint_transformer.data import Data, Cluster, NAG\n",
    "\n",
    "import socket\n",
    "HOST = socket.gethostname()\n",
    "if HOST == 'DEL2001W017':\n",
    "    DATA_ROOT = '/media/drobert-admin/DATA2/datasets'\n",
    "elif HOST == 'HP-2010S002':\n",
    "    DATA_ROOT = '/var/data/drobert/datasets'\n",
    "elif HOST == '9c81b1a54ad8':\n",
    "    DATA_ROOT = '/raid/dataset/pointcloud/data'\n",
    "else:\n",
    "    raise NotImplementedError(f\"Unknown host '{HOST}', cannot set DATA_ROOT\")\n",
    "    \n",
    "# nag = torch.load(os.path.join(DATA_ROOT, 'kitti360/shared/temp', 'nag.pt'))\n",
    "nag = torch.load(os.path.join(DATA_ROOT, 'kitti360/shared/temp', 'nag_20cm.pt'))\n",
    "# data, data_c = torch.load(os.path.join(DATA_ROOT, 'kitti360/shared/temp', 'preliminaries.pt'))"
   ]
  },
  {
   "cell_type": "code",
   "execution_count": null,
   "id": "6620cf56-b3f3-4a77-b73e-52db601874b5",
   "metadata": {},
   "outputs": [],
   "source": [
    "print(f'input nag: {nag}')\n",
    "print(f'input 0: num_nodes={nag[0].num_nodes}, keys={nag[0].keys}')\n",
    "print(f'input 1: num_nodes={nag[1].num_nodes}, keys={nag[1].keys}')\n",
    "print()\n",
    "\n",
    "nag_small = nag.select(1, [10, 20, 100, 500, 1000])\n",
    "\n",
    "print(f'output nag: {nag_small}')\n",
    "print(f'output 0: num_nodes={nag_small[0].num_nodes}, keys={nag_small[0].keys}')\n",
    "print(f'output 1: num_nodes={nag_small[1].num_nodes}, keys={nag_small[1].keys}')"
   ]
  },
  {
   "cell_type": "code",
   "execution_count": null,
   "id": "e121b777-004a-48b9-b3e1-728aa696052f",
   "metadata": {},
   "outputs": [],
   "source": [
    "from superpoint_transformer.data import Cluster\n",
    "\n",
    "num_clusters = 3\n",
    "num_points = 50\n",
    "pointers = torch.randint(num_clusters, (num_points,))\n",
    "points = torch.arange(num_points)\n",
    "c = Cluster(pointers, points, dense=True)"
   ]
  },
  {
   "cell_type": "code",
   "execution_count": null,
   "id": "b5b59296-e1d9-42e4-b4c7-d8d7a1b96f4a",
   "metadata": {},
   "outputs": [],
   "source": []
  }
 ],
 "metadata": {
  "kernelspec": {
   "display_name": "Python [conda env:spt] *",
   "language": "python",
   "name": "conda-env-spt-py"
  },
  "language_info": {
   "codemirror_mode": {
    "name": "ipython",
    "version": 3
   },
   "file_extension": ".py",
   "mimetype": "text/x-python",
   "name": "python",
   "nbconvert_exporter": "python",
   "pygments_lexer": "ipython3",
   "version": "3.8.13"
  }
 },
 "nbformat": 4,
 "nbformat_minor": 5
}
