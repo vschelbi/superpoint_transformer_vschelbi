{
 "cells": [
  {
   "cell_type": "code",
   "execution_count": null,
   "id": "94be99fa-cb1b-4910-bb3f-a58807f33263",
   "metadata": {},
   "outputs": [],
   "source": [
    "%load_ext autoreload\n",
    "%autoreload 2\n",
    "\n",
    "import numpy as np\n",
    "import torch\n",
    "import sys, os\n",
    "import socket\n",
    "\n",
    "HOST = socket.gethostname()\n",
    "if HOST == 'DEL2001W017':\n",
    "    DATA_ROOT = '/media/drobert-admin/DATA2/datasets'\n",
    "elif HOST == 'HP-2010S002':\n",
    "    DATA_ROOT = '/var/data/drobert/datasets'\n",
    "elif HOST == '9c81b1a54ad8':\n",
    "    DATA_ROOT = '/raid/dataset/pointcloud/data'\n",
    "else:\n",
    "    raise NotImplementedError(f\"Unknown host '{HOST}', cannot set DATA_ROOT\")\n",
    "\n",
    "file_path = os.path.dirname(os.path.abspath(''))\n",
    "sys.path.append(file_path)\n",
    "\n",
    "from superpoint_transformer.visualization import show\n",
    "\n",
    "# nag = torch.load(os.path.join(DATA_ROOT, 'kitti360/shared/temp', 'nag.pt'))\n",
    "# nag = torch.load(os.path.join(DATA_ROOT, 'kitti360/shared/temp', 'nag_5cm.pt'))\n",
    "# nag = torch.load(os.path.join(DATA_ROOT, 'kitti360/shared/temp', 'nag_20cm.pt'))\n",
    "nag = torch.load(os.path.join(DATA_ROOT, 'kitti360/shared/temp', 'nag_50cm.pt'))\n",
    "# data, data_c = torch.load(os.path.join(DATA_ROOT, 'kitti360/shared/temp', 'preliminaries.pt'))"
   ]
  },
  {
   "cell_type": "code",
   "execution_count": null,
   "id": "a86eeaae-e171-47a5-a506-cd8b682ca2ad",
   "metadata": {},
   "outputs": [],
   "source": [
    "# Artificially create prediction with ratio of error (set to 0)\n",
    "ratio = 0.05\n",
    "pred = nag[0].y.argmax(1)\n",
    "pred[torch.randperm(pred.shape[0])[:int(pred.shape[0] * ratio)]] = 0\n",
    "nag[0].pred = pred"
   ]
  },
  {
   "cell_type": "code",
   "execution_count": null,
   "id": "00734253-feef-49d3-a03e-1cfc4c12f42f",
   "metadata": {},
   "outputs": [],
   "source": [
    "from superpoint_transformer.datasets.kitti360 import CLASS_NAMES, CLASS_COLORS\n",
    "    \n",
    "show(\n",
    "    nag.select(1, slice(0, 300)), figsize=1000, width=None, height=None, class_names=CLASS_NAMES,\n",
    "    class_colors=CLASS_COLORS, class_opacities=None, voxel=0.1, max_points=100000,\n",
    "    pointsize=3, error_color=None, super_centre=True, super_number=True, super_edge=True)"
   ]
  },
  {
   "cell_type": "code",
   "execution_count": null,
   "id": "cf8be2f7-b9ff-489c-8ca2-0dc404d70752",
   "metadata": {},
   "outputs": [],
   "source": [
    "from superpoint_transformer.datasets.kitti360 import CLASS_NAMES, CLASS_COLORS\n",
    "    \n",
    "show(\n",
    "    nag, figsize=1000, width=None, height=None, class_names=CLASS_NAMES,\n",
    "    class_colors=CLASS_COLORS, class_opacities=None, voxel=-1, max_points=100000,\n",
    "    pointsize=3, error_color=None, super_centre=True, super_number=False, super_edge=False)"
   ]
  },
  {
   "cell_type": "code",
   "execution_count": null,
   "id": "bd2202e2-af9f-4177-910c-8134f79d4957",
   "metadata": {},
   "outputs": [],
   "source": [
    "from superpoint_transformer.datasets.kitti360 import CLASS_NAMES, CLASS_COLORS\n",
    "    \n",
    "show(\n",
    "    nag, figsize=1000, width=None, height=None, class_names=CLASS_NAMES,\n",
    "    class_colors=CLASS_COLORS, class_opacities=None, voxel=0.5, max_points=100000,\n",
    "    pointsize=3, error_color=None)"
   ]
  },
  {
   "cell_type": "code",
   "execution_count": null,
   "id": "9650d83e-b275-4c71-b16b-19a174492284",
   "metadata": {},
   "outputs": [],
   "source": []
  }
 ],
 "metadata": {
  "kernelspec": {
   "display_name": "Python [conda env:spt] *",
   "language": "python",
   "name": "conda-env-spt-py"
  },
  "language_info": {
   "codemirror_mode": {
    "name": "ipython",
    "version": 3
   },
   "file_extension": ".py",
   "mimetype": "text/x-python",
   "name": "python",
   "nbconvert_exporter": "python",
   "pygments_lexer": "ipython3",
   "version": "3.8.13"
  }
 },
 "nbformat": 4,
 "nbformat_minor": 5
}
